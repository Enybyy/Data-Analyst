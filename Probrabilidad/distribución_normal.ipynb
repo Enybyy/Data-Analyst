{
 "cells": [
  {
   "cell_type": "markdown",
   "metadata": {},
   "source": [
    "#### Libreriras importadas"
   ]
  },
  {
   "cell_type": "code",
   "execution_count": 20,
   "metadata": {},
   "outputs": [],
   "source": [
    "import numpy as np\n",
    "import pandas as pd\n",
    "import matplotlib.pyplot as plt\n",
    "import scipy.stats as stats"
   ]
  },
  {
   "cell_type": "code",
   "execution_count": 21,
   "metadata": {},
   "outputs": [],
   "source": [
    "mu = 10     # Media\n",
    "sigma = 1   # Desviación estándar"
   ]
  },
  {
   "cell_type": "code",
   "execution_count": 22,
   "metadata": {},
   "outputs": [
    {
     "data": {
      "image/png": "[encoded data removed]",
      "text/plain": [
       "<Figure size 640x480 with 1 Axes>"
      ]
     },
     "metadata": {},
     "output_type": "display_data"
    }
   ],
   "source": [
    "x = np.linspace(7, 13, 100)\n",
    "y = stats.norm.pdf(x, mu, sigma)\n",
    "\n",
    "plt.plot(x, y, label='μ: 10, σ: 1')\n",
    "\n",
    "plt.xlim(4,18)\n",
    "plt.legend()\n",
    "plt.show()"
   ]
  },
  {
   "cell_type": "markdown",
   "metadata": {},
   "source": [
    "## CASO: RECIEN NACIDOS"
   ]
  },
  {
   "cell_type": "code",
   "execution_count": 23,
   "metadata": {},
   "outputs": [
    {
     "data": {
      "text/html": [
       "<div>\n",
       "<style scoped>\n",
       "    .dataframe tbody tr th:only-of-type {\n",
       "        vertical-align: middle;\n",
       "    }\n",
       "\n",
       "    .dataframe tbody tr th {\n",
       "        vertical-align: top;\n",
       "    }\n",
       "\n",
       "    .dataframe thead th {\n",
       "        text-align: right;\n",
       "    }\n",
       "</style>\n",
       "<table border=\"1\" class=\"dataframe\">\n",
       "  <thead>\n",
       "    <tr style=\"text-align: right;\">\n",
       "      <th></th>\n",
       "      <th>ATTEND</th>\n",
       "      <th>BFACIL</th>\n",
       "      <th>BMI</th>\n",
       "      <th>CIG_0</th>\n",
       "      <th>DBWT</th>\n",
       "      <th>DLMP_MM</th>\n",
       "      <th>DLMP_YY</th>\n",
       "      <th>DMAR</th>\n",
       "      <th>DOB_MM</th>\n",
       "      <th>DOB_TT</th>\n",
       "      <th>...</th>\n",
       "      <th>PRIORLIVE</th>\n",
       "      <th>PRIORTERM</th>\n",
       "      <th>PWgt_R</th>\n",
       "      <th>RDMETH_REC</th>\n",
       "      <th>RESTATUS</th>\n",
       "      <th>RF_CESAR</th>\n",
       "      <th>RF_CESARN</th>\n",
       "      <th>SEX</th>\n",
       "      <th>WTGAIN</th>\n",
       "      <th>PESO</th>\n",
       "    </tr>\n",
       "  </thead>\n",
       "  <tbody>\n",
       "    <tr>\n",
       "      <th>0</th>\n",
       "      <td>1</td>\n",
       "      <td>1</td>\n",
       "      <td>27.4</td>\n",
       "      <td>0</td>\n",
       "      <td>3655</td>\n",
       "      <td>7</td>\n",
       "      <td>2017</td>\n",
       "      <td>1</td>\n",
       "      <td>4</td>\n",
       "      <td>11</td>\n",
       "      <td>...</td>\n",
       "      <td>0</td>\n",
       "      <td>0</td>\n",
       "      <td>150</td>\n",
       "      <td>3</td>\n",
       "      <td>1</td>\n",
       "      <td>N</td>\n",
       "      <td>0</td>\n",
       "      <td>F</td>\n",
       "      <td>46</td>\n",
       "      <td>3655</td>\n",
       "    </tr>\n",
       "    <tr>\n",
       "      <th>1</th>\n",
       "      <td>1</td>\n",
       "      <td>1</td>\n",
       "      <td>18.7</td>\n",
       "      <td>0</td>\n",
       "      <td>3520</td>\n",
       "      <td>5</td>\n",
       "      <td>2017</td>\n",
       "      <td>1</td>\n",
       "      <td>2</td>\n",
       "      <td>1123</td>\n",
       "      <td>...</td>\n",
       "      <td>0</td>\n",
       "      <td>0</td>\n",
       "      <td>102</td>\n",
       "      <td>3</td>\n",
       "      <td>1</td>\n",
       "      <td>N</td>\n",
       "      <td>0</td>\n",
       "      <td>M</td>\n",
       "      <td>40</td>\n",
       "      <td>3520</td>\n",
       "    </tr>\n",
       "    <tr>\n",
       "      <th>2</th>\n",
       "      <td>1</td>\n",
       "      <td>1</td>\n",
       "      <td>44.3</td>\n",
       "      <td>0</td>\n",
       "      <td>2920</td>\n",
       "      <td>5</td>\n",
       "      <td>2017</td>\n",
       "      <td>1</td>\n",
       "      <td>2</td>\n",
       "      <td>107</td>\n",
       "      <td>...</td>\n",
       "      <td>1</td>\n",
       "      <td>0</td>\n",
       "      <td>250</td>\n",
       "      <td>1</td>\n",
       "      <td>1</td>\n",
       "      <td>N</td>\n",
       "      <td>0</td>\n",
       "      <td>F</td>\n",
       "      <td>19</td>\n",
       "      <td>2920</td>\n",
       "    </tr>\n",
       "    <tr>\n",
       "      <th>3</th>\n",
       "      <td>1</td>\n",
       "      <td>1</td>\n",
       "      <td>23.7</td>\n",
       "      <td>0</td>\n",
       "      <td>4100</td>\n",
       "      <td>8</td>\n",
       "      <td>2017</td>\n",
       "      <td>2</td>\n",
       "      <td>5</td>\n",
       "      <td>1056</td>\n",
       "      <td>...</td>\n",
       "      <td>3</td>\n",
       "      <td>0</td>\n",
       "      <td>165</td>\n",
       "      <td>4</td>\n",
       "      <td>2</td>\n",
       "      <td>Y</td>\n",
       "      <td>1</td>\n",
       "      <td>F</td>\n",
       "      <td>61</td>\n",
       "      <td>4100</td>\n",
       "    </tr>\n",
       "    <tr>\n",
       "      <th>4</th>\n",
       "      <td>1</td>\n",
       "      <td>1</td>\n",
       "      <td>20.2</td>\n",
       "      <td>0</td>\n",
       "      <td>4349</td>\n",
       "      <td>8</td>\n",
       "      <td>2017</td>\n",
       "      <td></td>\n",
       "      <td>6</td>\n",
       "      <td>244</td>\n",
       "      <td>...</td>\n",
       "      <td>1</td>\n",
       "      <td>0</td>\n",
       "      <td>129</td>\n",
       "      <td>1</td>\n",
       "      <td>1</td>\n",
       "      <td>N</td>\n",
       "      <td>0</td>\n",
       "      <td>M</td>\n",
       "      <td>25</td>\n",
       "      <td>4349</td>\n",
       "    </tr>\n",
       "  </tbody>\n",
       "</table>\n",
       "<p>5 rows × 56 columns</p>\n",
       "</div>"
      ],
      "text/plain": [
       "   ATTEND  BFACIL   BMI  CIG_0  DBWT  DLMP_MM  DLMP_YY DMAR  DOB_MM  DOB_TT  \\\n",
       "0       1       1  27.4      0  3655        7     2017    1       4      11   \n",
       "1       1       1  18.7      0  3520        5     2017    1       2    1123   \n",
       "2       1       1  44.3      0  2920        5     2017    1       2     107   \n",
       "3       1       1  23.7      0  4100        8     2017    2       5    1056   \n",
       "4       1       1  20.2      0  4349        8     2017            6     244   \n",
       "\n",
       "   ...  PRIORLIVE  PRIORTERM  PWgt_R  RDMETH_REC  RESTATUS  RF_CESAR  \\\n",
       "0  ...          0          0     150           3         1         N   \n",
       "1  ...          0          0     102           3         1         N   \n",
       "2  ...          1          0     250           1         1         N   \n",
       "3  ...          3          0     165           4         2         Y   \n",
       "4  ...          1          0     129           1         1         N   \n",
       "\n",
       "   RF_CESARN  SEX  WTGAIN  PESO  \n",
       "0          0    F      46  3655  \n",
       "1          0    M      40  3520  \n",
       "2          0    F      19  2920  \n",
       "3          1    F      61  4100  \n",
       "4          0    M      25  4349  \n",
       "\n",
       "[5 rows x 56 columns]"
      ]
     },
     "execution_count": 23,
     "metadata": {},
     "output_type": "execute_result"
    }
   ],
   "source": [
    "df_nacimientos = pd.read_csv('db/nacimientos_us_2018.csv')\n",
    "df_nacimientos.head()"
   ]
  },
  {
   "cell_type": "code",
   "execution_count": 24,
   "metadata": {},
   "outputs": [
    {
     "data": {
      "text/plain": [
       "0    3655\n",
       "1    3520\n",
       "2    2920\n",
       "3    4100\n",
       "4    4349\n",
       "Name: DBWT, dtype: int64"
      ]
     },
     "execution_count": 24,
     "metadata": {},
     "output_type": "execute_result"
    }
   ],
   "source": [
    "peso_nacimientos = df_nacimientos['DBWT']\n",
    "peso_nacimientos.head()"
   ]
  },
  {
   "cell_type": "code",
   "execution_count": 25,
   "metadata": {},
   "outputs": [
    {
     "data": {
      "image/png": "[encoded data removed]",
      "text/plain": [
       "<Figure size 640x480 with 1 Axes>"
      ]
     },
     "metadata": {},
     "output_type": "display_data"
    }
   ],
   "source": [
    "plt.hist(peso_nacimientos, bins=30);"
   ]
  },
  {
   "cell_type": "code",
   "execution_count": 26,
   "metadata": {},
   "outputs": [
    {
     "data": {
      "text/html": [
       "<div>\n",
       "<style scoped>\n",
       "    .dataframe tbody tr th:only-of-type {\n",
       "        vertical-align: middle;\n",
       "    }\n",
       "\n",
       "    .dataframe tbody tr th {\n",
       "        vertical-align: top;\n",
       "    }\n",
       "\n",
       "    .dataframe thead th {\n",
       "        text-align: right;\n",
       "    }\n",
       "</style>\n",
       "<table border=\"1\" class=\"dataframe\">\n",
       "  <thead>\n",
       "    <tr style=\"text-align: right;\">\n",
       "      <th></th>\n",
       "      <th>ATTEND</th>\n",
       "      <th>BFACIL</th>\n",
       "      <th>BMI</th>\n",
       "      <th>CIG_0</th>\n",
       "      <th>DBWT</th>\n",
       "      <th>DLMP_MM</th>\n",
       "      <th>DLMP_YY</th>\n",
       "      <th>DMAR</th>\n",
       "      <th>DOB_MM</th>\n",
       "      <th>DOB_TT</th>\n",
       "      <th>...</th>\n",
       "      <th>PRIORLIVE</th>\n",
       "      <th>PRIORTERM</th>\n",
       "      <th>PWgt_R</th>\n",
       "      <th>RDMETH_REC</th>\n",
       "      <th>RESTATUS</th>\n",
       "      <th>RF_CESAR</th>\n",
       "      <th>RF_CESARN</th>\n",
       "      <th>SEX</th>\n",
       "      <th>WTGAIN</th>\n",
       "      <th>PESO</th>\n",
       "    </tr>\n",
       "  </thead>\n",
       "  <tbody>\n",
       "    <tr>\n",
       "      <th>2691</th>\n",
       "      <td>3</td>\n",
       "      <td>1</td>\n",
       "      <td>99.9</td>\n",
       "      <td>0</td>\n",
       "      <td>9999</td>\n",
       "      <td>99</td>\n",
       "      <td>9999</td>\n",
       "      <td>2</td>\n",
       "      <td>1</td>\n",
       "      <td>1754</td>\n",
       "      <td>...</td>\n",
       "      <td>0</td>\n",
       "      <td>0</td>\n",
       "      <td>118</td>\n",
       "      <td>1</td>\n",
       "      <td>1</td>\n",
       "      <td>N</td>\n",
       "      <td>0</td>\n",
       "      <td>M</td>\n",
       "      <td>0</td>\n",
       "      <td>9999</td>\n",
       "    </tr>\n",
       "    <tr>\n",
       "      <th>5721</th>\n",
       "      <td>1</td>\n",
       "      <td>1</td>\n",
       "      <td>20.6</td>\n",
       "      <td>0</td>\n",
       "      <td>9999</td>\n",
       "      <td>4</td>\n",
       "      <td>2018</td>\n",
       "      <td>1</td>\n",
       "      <td>8</td>\n",
       "      <td>1145</td>\n",
       "      <td>...</td>\n",
       "      <td>1</td>\n",
       "      <td>0</td>\n",
       "      <td>120</td>\n",
       "      <td>1</td>\n",
       "      <td>1</td>\n",
       "      <td>N</td>\n",
       "      <td>0</td>\n",
       "      <td>F</td>\n",
       "      <td>5</td>\n",
       "      <td>9999</td>\n",
       "    </tr>\n",
       "    <tr>\n",
       "      <th>7529</th>\n",
       "      <td>2</td>\n",
       "      <td>1</td>\n",
       "      <td>38.1</td>\n",
       "      <td>0</td>\n",
       "      <td>9999</td>\n",
       "      <td>11</td>\n",
       "      <td>2017</td>\n",
       "      <td></td>\n",
       "      <td>3</td>\n",
       "      <td>135</td>\n",
       "      <td>...</td>\n",
       "      <td>0</td>\n",
       "      <td>0</td>\n",
       "      <td>229</td>\n",
       "      <td>1</td>\n",
       "      <td>1</td>\n",
       "      <td>N</td>\n",
       "      <td>0</td>\n",
       "      <td>M</td>\n",
       "      <td>3</td>\n",
       "      <td>9999</td>\n",
       "    </tr>\n",
       "    <tr>\n",
       "      <th>7769</th>\n",
       "      <td>9</td>\n",
       "      <td>5</td>\n",
       "      <td>99.9</td>\n",
       "      <td>99</td>\n",
       "      <td>9999</td>\n",
       "      <td>99</td>\n",
       "      <td>9999</td>\n",
       "      <td></td>\n",
       "      <td>8</td>\n",
       "      <td>9999</td>\n",
       "      <td>...</td>\n",
       "      <td>2</td>\n",
       "      <td>1</td>\n",
       "      <td>999</td>\n",
       "      <td>1</td>\n",
       "      <td>1</td>\n",
       "      <td>N</td>\n",
       "      <td>0</td>\n",
       "      <td>M</td>\n",
       "      <td>99</td>\n",
       "      <td>9999</td>\n",
       "    </tr>\n",
       "    <tr>\n",
       "      <th>8497</th>\n",
       "      <td>1</td>\n",
       "      <td>1</td>\n",
       "      <td>20.9</td>\n",
       "      <td>15</td>\n",
       "      <td>9999</td>\n",
       "      <td>8</td>\n",
       "      <td>2018</td>\n",
       "      <td>2</td>\n",
       "      <td>12</td>\n",
       "      <td>1835</td>\n",
       "      <td>...</td>\n",
       "      <td>0</td>\n",
       "      <td>0</td>\n",
       "      <td>122</td>\n",
       "      <td>1</td>\n",
       "      <td>2</td>\n",
       "      <td>N</td>\n",
       "      <td>0</td>\n",
       "      <td>M</td>\n",
       "      <td>11</td>\n",
       "      <td>9999</td>\n",
       "    </tr>\n",
       "    <tr>\n",
       "      <th>9112</th>\n",
       "      <td>3</td>\n",
       "      <td>1</td>\n",
       "      <td>24.5</td>\n",
       "      <td>0</td>\n",
       "      <td>9999</td>\n",
       "      <td>6</td>\n",
       "      <td>2018</td>\n",
       "      <td>2</td>\n",
       "      <td>11</td>\n",
       "      <td>1402</td>\n",
       "      <td>...</td>\n",
       "      <td>0</td>\n",
       "      <td>0</td>\n",
       "      <td>147</td>\n",
       "      <td>1</td>\n",
       "      <td>2</td>\n",
       "      <td>N</td>\n",
       "      <td>0</td>\n",
       "      <td>F</td>\n",
       "      <td>8</td>\n",
       "      <td>9999</td>\n",
       "    </tr>\n",
       "    <tr>\n",
       "      <th>9771</th>\n",
       "      <td>1</td>\n",
       "      <td>1</td>\n",
       "      <td>17.5</td>\n",
       "      <td>0</td>\n",
       "      <td>9999</td>\n",
       "      <td>4</td>\n",
       "      <td>2018</td>\n",
       "      <td>1</td>\n",
       "      <td>8</td>\n",
       "      <td>933</td>\n",
       "      <td>...</td>\n",
       "      <td>0</td>\n",
       "      <td>0</td>\n",
       "      <td>115</td>\n",
       "      <td>1</td>\n",
       "      <td>1</td>\n",
       "      <td>N</td>\n",
       "      <td>0</td>\n",
       "      <td>M</td>\n",
       "      <td>17</td>\n",
       "      <td>9999</td>\n",
       "    </tr>\n",
       "    <tr>\n",
       "      <th>11531</th>\n",
       "      <td>2</td>\n",
       "      <td>1</td>\n",
       "      <td>28.1</td>\n",
       "      <td>0</td>\n",
       "      <td>9999</td>\n",
       "      <td>1</td>\n",
       "      <td>2018</td>\n",
       "      <td>2</td>\n",
       "      <td>5</td>\n",
       "      <td>345</td>\n",
       "      <td>...</td>\n",
       "      <td>0</td>\n",
       "      <td>3</td>\n",
       "      <td>164</td>\n",
       "      <td>1</td>\n",
       "      <td>2</td>\n",
       "      <td>N</td>\n",
       "      <td>0</td>\n",
       "      <td>M</td>\n",
       "      <td>14</td>\n",
       "      <td>9999</td>\n",
       "    </tr>\n",
       "    <tr>\n",
       "      <th>13153</th>\n",
       "      <td>1</td>\n",
       "      <td>1</td>\n",
       "      <td>25.7</td>\n",
       "      <td>0</td>\n",
       "      <td>9999</td>\n",
       "      <td>6</td>\n",
       "      <td>2017</td>\n",
       "      <td>1</td>\n",
       "      <td>2</td>\n",
       "      <td>858</td>\n",
       "      <td>...</td>\n",
       "      <td>0</td>\n",
       "      <td>0</td>\n",
       "      <td>150</td>\n",
       "      <td>3</td>\n",
       "      <td>2</td>\n",
       "      <td>N</td>\n",
       "      <td>0</td>\n",
       "      <td>F</td>\n",
       "      <td>99</td>\n",
       "      <td>9999</td>\n",
       "    </tr>\n",
       "  </tbody>\n",
       "</table>\n",
       "<p>9 rows × 56 columns</p>\n",
       "</div>"
      ],
      "text/plain": [
       "       ATTEND  BFACIL   BMI  CIG_0  DBWT  DLMP_MM  DLMP_YY DMAR  DOB_MM  \\\n",
       "2691        3       1  99.9      0  9999       99     9999    2       1   \n",
       "5721        1       1  20.6      0  9999        4     2018    1       8   \n",
       "7529        2       1  38.1      0  9999       11     2017            3   \n",
       "7769        9       5  99.9     99  9999       99     9999            8   \n",
       "8497        1       1  20.9     15  9999        8     2018    2      12   \n",
       "9112        3       1  24.5      0  9999        6     2018    2      11   \n",
       "9771        1       1  17.5      0  9999        4     2018    1       8   \n",
       "11531       2       1  28.1      0  9999        1     2018    2       5   \n",
       "13153       1       1  25.7      0  9999        6     2017    1       2   \n",
       "\n",
       "       DOB_TT  ...  PRIORLIVE  PRIORTERM  PWgt_R  RDMETH_REC  RESTATUS  \\\n",
       "2691     1754  ...          0          0     118           1         1   \n",
       "5721     1145  ...          1          0     120           1         1   \n",
       "7529      135  ...          0          0     229           1         1   \n",
       "7769     9999  ...          2          1     999           1         1   \n",
       "8497     1835  ...          0          0     122           1         2   \n",
       "9112     1402  ...          0          0     147           1         2   \n",
       "9771      933  ...          0          0     115           1         1   \n",
       "11531     345  ...          0          3     164           1         2   \n",
       "13153     858  ...          0          0     150           3         2   \n",
       "\n",
       "       RF_CESAR  RF_CESARN  SEX  WTGAIN  PESO  \n",
       "2691          N          0    M       0  9999  \n",
       "5721          N          0    F       5  9999  \n",
       "7529          N          0    M       3  9999  \n",
       "7769          N          0    M      99  9999  \n",
       "8497          N          0    M      11  9999  \n",
       "9112          N          0    F       8  9999  \n",
       "9771          N          0    M      17  9999  \n",
       "11531         N          0    M      14  9999  \n",
       "13153         N          0    F      99  9999  \n",
       "\n",
       "[9 rows x 56 columns]"
      ]
     },
     "execution_count": 26,
     "metadata": {},
     "output_type": "execute_result"
    }
   ],
   "source": [
    "peso_mayor_6000 = df_nacimientos[df_nacimientos['DBWT'] > 6000]\n",
    "peso_mayor_6000"
   ]
  },
  {
   "cell_type": "markdown",
   "metadata": {},
   "source": [
    "##### Descartamos estos datos ya son irrelebantes ⬆️"
   ]
  },
  {
   "cell_type": "code",
   "execution_count": 35,
   "metadata": {},
   "outputs": [
    {
     "data": {
      "text/plain": [
       "0        3655\n",
       "1        3520\n",
       "2        2920\n",
       "3        4100\n",
       "4        4349\n",
       "         ... \n",
       "14995    3060\n",
       "14996    4110\n",
       "14997    4195\n",
       "14998    1645\n",
       "14999    3742\n",
       "Name: DBWT, Length: 14991, dtype: int64"
      ]
     },
     "execution_count": 35,
     "metadata": {},
     "output_type": "execute_result"
    }
   ],
   "source": [
    "peso_nacimientos_fil = peso_nacimientos[peso_nacimientos < 6000]\n",
    "peso_nacimientos_fil"
   ]
  },
  {
   "cell_type": "code",
   "execution_count": 38,
   "metadata": {},
   "outputs": [
    {
     "data": {
      "text/plain": [
       "np.float64(3252.9672470148757)"
      ]
     },
     "execution_count": 38,
     "metadata": {},
     "output_type": "execute_result"
    }
   ],
   "source": [
    "mu = peso_nacimientos_fil.mean()\n",
    "mu"
   ]
  },
  {
   "cell_type": "code",
   "execution_count": 39,
   "metadata": {},
   "outputs": [
    {
     "data": {
      "text/plain": [
       "np.float64(589.0452709387985)"
      ]
     },
     "execution_count": 39,
     "metadata": {},
     "output_type": "execute_result"
    }
   ],
   "source": [
    "sigma = peso_nacimientos_fil.std()\n",
    "sigma"
   ]
  },
  {
   "cell_type": "code",
   "execution_count": 44,
   "metadata": {},
   "outputs": [
    {
     "data": {
      "image/png": "[encoded data removed]",
      "text/plain": [
       "<Figure size 640x480 with 1 Axes>"
      ]
     },
     "metadata": {},
     "output_type": "display_data"
    }
   ],
   "source": [
    "plt.hist(peso_nacimientos_fil, bins=20, density=True);"
   ]
  },
  {
   "cell_type": "markdown",
   "metadata": {},
   "source": [
    "### Respresentar gráficamente una distribución normal con los parámetros obtenidos donde los valores de 'x' se encuentren en el rango de '1000 - 5000'."
   ]
  },
  {
   "cell_type": "code",
   "execution_count": 48,
   "metadata": {},
   "outputs": [],
   "source": [
    "x_inf = 1000\n",
    "x_sup = 5000\n",
    "\n",
    "x = np.linspace(x_inf, x_sup, 500)\n",
    "\n",
    "y = stats.norm.pdf(x, mu, sigma)"
   ]
  },
  {
   "cell_type": "code",
   "execution_count": 78,
   "metadata": {},
   "outputs": [
    {
     "data": {
      "image/png": "[encoded data removed]",
      "text/plain": [
       "<Figure size 640x480 with 1 Axes>"
      ]
     },
     "metadata": {},
     "output_type": "display_data"
    }
   ],
   "source": [
    "plt.plot(x, y)\n",
    "plt.axvline(mu, color='green', linestyle='-.')\n",
    "plt.hist(peso_nacimientos_fil, bins=20, density=True);"
   ]
  },
  {
   "cell_type": "markdown",
   "metadata": {},
   "source": [
    "#### Densidad de probabilidad para x = 3400g"
   ]
  },
  {
   "cell_type": "code",
   "execution_count": 87,
   "metadata": {},
   "outputs": [
    {
     "name": "stdout",
     "output_type": "stream",
     "text": [
      "La densidad de probabilidad de que un recién nacido tenga un peso superior a 3400g es de: 0.0006564955494730644\n"
     ]
    }
   ],
   "source": [
    "print(f\"La densidad de probabilidad de que un recién nacido tenga un peso superior a 3400g es de: {stats.norm.pdf(3400, mu, sigma)}\")"
   ]
  },
  {
   "cell_type": "markdown",
   "metadata": {},
   "source": [
    "#### Probabilidad de que un recién nacido tenga un peso inferior a 3200g"
   ]
  },
  {
   "cell_type": "code",
   "execution_count": 86,
   "metadata": {},
   "outputs": [
    {
     "name": "stdout",
     "output_type": "stream",
     "text": [
      "La Probabilidad de que un recién nacido tenga un peso inferior a 3200g es de: 0.5358248059171492\n"
     ]
    }
   ],
   "source": [
    "print(f\"La probabilidad de que un recién nacido tenga un peso inferior a 3200g es de: {1 - stats.norm.cdf(3200, mu, sigma)}\")"
   ]
  },
  {
   "cell_type": "markdown",
   "metadata": {},
   "source": [
    "#### Probabilidad de que un recién nacido tenga un peso superior a 4892g"
   ]
  },
  {
   "cell_type": "code",
   "execution_count": 89,
   "metadata": {},
   "outputs": [
    {
     "name": "stdout",
     "output_type": "stream",
     "text": [
      "La probabilidad de que un recién nacido tenga un peso superior a 4892g es de: 0.0026968916814515964\n"
     ]
    }
   ],
   "source": [
    "print(f\"La probabilidad de que un recién nacido tenga un peso superior a 4892g es de: {1 - stats.norm.cdf(4892, mu, sigma)}\")"
   ]
  }
 ],
 "metadata": {
  "kernelspec": {
   "display_name": "Python 3",
   "language": "python",
   "name": "python3"
  },
  "language_info": {
   "codemirror_mode": {
    "name": "ipython",
    "version": 3
   },
   "file_extension": ".py",
   "mimetype": "text/x-python",
   "name": "python",
   "nbconvert_exporter": "python",
   "pygments_lexer": "ipython3",
   "version": "3.12.5"
  }
 },
 "nbformat": 4,
 "nbformat_minor": 2
}
