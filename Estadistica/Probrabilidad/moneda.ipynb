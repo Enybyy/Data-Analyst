{
 "cells": [
  {
   "cell_type": "markdown",
   "metadata": {},
   "source": [
    "## PROBABILIDAD "
   ]
  },
  {
   "cell_type": "markdown",
   "metadata": {},
   "source": [
    "#### EJERCICIO DE LA MONEDA 1"
   ]
  },
  {
   "cell_type": "markdown",
   "metadata": {},
   "source": [
    "##### Probabilidades iguales"
   ]
  },
  {
   "cell_type": "code",
   "execution_count": 15,
   "metadata": {},
   "outputs": [],
   "source": [
    "import numpy as np"
   ]
  },
  {
   "cell_type": "code",
   "execution_count": 16,
   "metadata": {},
   "outputs": [],
   "source": [
    "numero_lanzamientos = 10000\n",
    "moneda = np.random.randint(2, size=numero_lanzamientos)"
   ]
  },
  {
   "cell_type": "code",
   "execution_count": 17,
   "metadata": {},
   "outputs": [
    {
     "name": "stdout",
     "output_type": "stream",
     "text": [
      "[0 0 1 ... 1 0 1]\n"
     ]
    }
   ],
   "source": [
    "print(moneda)"
   ]
  },
  {
   "cell_type": "markdown",
   "metadata": {},
   "source": [
    "##### Hallar porbabilidad en número de lanzamientos"
   ]
  },
  {
   "cell_type": "code",
   "execution_count": 18,
   "metadata": {},
   "outputs": [
    {
     "name": "stdout",
     "output_type": "stream",
     "text": [
      "La probabilidad de que salga cara en 10000 lanzamientos de la Moneda 1 es 0.5058\n",
      "La probabilidad de que salga sello en 10000 lanzamientos de la Moneda 1 es 0.4942\n"
     ]
    }
   ],
   "source": [
    "print(f\"La probabilidad de que salga cara en {numero_lanzamientos} lanzamientos de la Moneda 1 es\",np.count_nonzero(moneda)/numero_lanzamientos)\n",
    "print(f\"La probabilidad de que salga sello en {numero_lanzamientos} lanzamientos de la Moneda 1 es\",np.count_nonzero(moneda == 0)/numero_lanzamientos)"
   ]
  },
  {
   "cell_type": "markdown",
   "metadata": {},
   "source": [
    "#### EJERCICIO DE LA MONEDA 2"
   ]
  },
  {
   "cell_type": "markdown",
   "metadata": {},
   "source": [
    "##### Probabilidades variables"
   ]
  },
  {
   "cell_type": "code",
   "execution_count": 19,
   "metadata": {},
   "outputs": [],
   "source": [
    "numero_lanzamientos1 = 10000\n",
    "sello = 0\n",
    "cara = 1\n",
    "moneda2 = np.random.choice([sello,cara], p=[.27,.73], size=numero_lanzamientos1)"
   ]
  },
  {
   "cell_type": "code",
   "execution_count": 20,
   "metadata": {},
   "outputs": [
    {
     "name": "stdout",
     "output_type": "stream",
     "text": [
      "[1 1 0 ... 1 1 1]\n"
     ]
    }
   ],
   "source": [
    "print(moneda2)"
   ]
  },
  {
   "cell_type": "markdown",
   "metadata": {},
   "source": [
    "##### Hallar porbabilidad en número de lanzamientos"
   ]
  },
  {
   "cell_type": "code",
   "execution_count": 21,
   "metadata": {},
   "outputs": [
    {
     "name": "stdout",
     "output_type": "stream",
     "text": [
      "La probabilidad de que salga cara en 10000 lanzamientos de la Moneda 2 es 0.7174\n",
      "La probabilidad de que salga sello en 10000 lanzamientos de la Moneda 2 es 0.2826\n"
     ]
    }
   ],
   "source": [
    "print(f\"La probabilidad de que salga cara en {numero_lanzamientos1} lanzamientos de la Moneda 2 es\",np.count_nonzero(moneda2)/numero_lanzamientos1)\n",
    "print(f\"La probabilidad de que salga sello en {numero_lanzamientos1} lanzamientos de la Moneda 2 es\",np.count_nonzero(moneda2 == 0)/numero_lanzamientos1)"
   ]
  }
 ],
 "metadata": {
  "kernelspec": {
   "display_name": "Python 3",
   "language": "python",
   "name": "python3"
  },
  "language_info": {
   "codemirror_mode": {
    "name": "ipython",
    "version": 3
   },
   "file_extension": ".py",
   "mimetype": "text/x-python",
   "name": "python",
   "nbconvert_exporter": "python",
   "pygments_lexer": "ipython3",
   "version": "3.12.5"
  }
 },
 "nbformat": 4,
 "nbformat_minor": 2
}
