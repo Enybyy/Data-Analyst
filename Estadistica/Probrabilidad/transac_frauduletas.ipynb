{
 "cells": [
  {
   "cell_type": "markdown",
   "metadata": {},
   "source": [
    "## TRANSACCIONES FRAUDULENTAS\n",
    "### Enunciado\n",
    "#### El equipo financioero nos contacta con una decisión que vana atoamr al respecto. Este equipo se ocupa de las transacciones fraudulentas. Al día reciben 10000 transacciones y debdido al gran número no pueden actualizar todas manualmente. Por lo tanto se apoyan en un software que es capaz de identificar 100 transacciones fraudulentas al día. Aunque el software es muy eficaz, no es capaz de identificar todas y se estima que el 4% de transaccioens restantes son fraudulentas. Si una transacción es fraudulenta y no ha sido identificada como tal, el coste está cubierto por el banco para que no repercuta en sus clientes. Esto quiere decir que por cada transacción fraudulenta que no es identificada en el banco tiene un coste de S/. 100, es el valor promedio de las transacciones fraudulentas."
   ]
  },
  {
   "cell_type": "markdown",
   "metadata": {},
   "source": [
    "#### Librerias importadas"
   ]
  },
  {
   "cell_type": "code",
   "execution_count": 29,
   "metadata": {},
   "outputs": [],
   "source": [
    "import numpy as np\n",
    "import matplotlib.pyplot as plt"
   ]
  },
  {
   "cell_type": "code",
   "execution_count": 30,
   "metadata": {},
   "outputs": [],
   "source": [
    "coste_transc_fraudulenta = 100\n",
    "transac_fraudulentas = np.random.binomial(10000, 0.04, size=365)"
   ]
  },
  {
   "cell_type": "code",
   "execution_count": 31,
   "metadata": {},
   "outputs": [],
   "source": [
    "num_transac_fraudulentas = sum(transac_fraudulentas)"
   ]
  },
  {
   "cell_type": "code",
   "execution_count": 32,
   "metadata": {},
   "outputs": [
    {
     "name": "stdout",
     "output_type": "stream",
     "text": [
      "EL número de transacciones fraudulentas es de: 146023\n"
     ]
    }
   ],
   "source": [
    "print(f\"EL número de transacciones fraudulentas es de: {num_transac_fraudulentas}\")"
   ]
  },
  {
   "cell_type": "code",
   "execution_count": 33,
   "metadata": {},
   "outputs": [
    {
     "name": "stdout",
     "output_type": "stream",
     "text": [
      "El coste total por transacciones fraudulentas es de: 14602300\n"
     ]
    }
   ],
   "source": [
    "print(f\"El coste total por transacciones fraudulentas es de: {num_transac_fraudulentas*coste_transc_fraudulenta}\")"
   ]
  },
  {
   "cell_type": "markdown",
   "metadata": {},
   "source": [
    "### Una empresa especializada en IA a contactado al equipo financiero y les ha demostrado que puede mejorar la identificación de las transacciones fraudulentas. Esto lea permitiría reducir del 4% al 2% el número de transacciones fraudulentas. El equipo finaciero estaba encantado hasta que el proveedor les indica que el costo del software es de S/. 500000 anuales.\n",
    "### Por esto nos contactan para poder corroborar si convienve adquirir el nuevo software para identificar las transacciones fraudulentas o no."
   ]
  },
  {
   "cell_type": "code",
   "execution_count": 34,
   "metadata": {},
   "outputs": [],
   "source": [
    "transac_fraudulentas2 = np.random.binomial(10000, 0.02, size=365)"
   ]
  },
  {
   "cell_type": "code",
   "execution_count": 35,
   "metadata": {},
   "outputs": [],
   "source": [
    "num_transac_fraudulentas2 = sum(transac_fraudulentas2)"
   ]
  },
  {
   "cell_type": "code",
   "execution_count": 36,
   "metadata": {},
   "outputs": [
    {
     "name": "stdout",
     "output_type": "stream",
     "text": [
      "EL número de transacciones fraudulentas con el nuevo software: 73729\n",
      "El coste total por transacciones fraudulentas con el nuevo software: 7372900\n"
     ]
    }
   ],
   "source": [
    "print(f\"EL número de transacciones fraudulentas con el nuevo software: {num_transac_fraudulentas2}\")\n",
    "print(f\"El coste total por transacciones fraudulentas con el nuevo software: {num_transac_fraudulentas2*coste_transc_fraudulenta}\")"
   ]
  },
  {
   "cell_type": "markdown",
   "metadata": {},
   "source": [
    "### Por lo si es conveniente comprar el nuevo software para detectar las transacciones fraudulentas"
   ]
  }
 ],
 "metadata": {
  "kernelspec": {
   "display_name": "Python 3",
   "language": "python",
   "name": "python3"
  },
  "language_info": {
   "codemirror_mode": {
    "name": "ipython",
    "version": 3
   },
   "file_extension": ".py",
   "mimetype": "text/x-python",
   "name": "python",
   "nbconvert_exporter": "python",
   "pygments_lexer": "ipython3",
   "version": "3.12.5"
  }
 },
 "nbformat": 4,
 "nbformat_minor": 2
}
